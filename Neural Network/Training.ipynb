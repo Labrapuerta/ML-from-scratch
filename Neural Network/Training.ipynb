{
 "cells": [
  {
   "cell_type": "code",
   "execution_count": 1,
   "metadata": {},
   "outputs": [],
   "source": [
    "import tensorflow as tf\n",
    "import numpy as np\n",
    "import matplotlib.pyplot as plt\n",
    "import wandb\n",
    "from scripts.models import Model\n",
    "from scripts.utils import custom_metric, Wandb_plot, csv_logger, animate_function\n",
    "import pandas as pd\n",
    "import matplotlib.animation as animation\n",
    "import ast\n",
    "import networkx as nx\n",
    "from matplotlib.animation import FuncAnimation, PillowWriter "
   ]
  },
  {
   "cell_type": "code",
   "execution_count": 2,
   "metadata": {},
   "outputs": [
    {
     "name": "stderr",
     "output_type": "stream",
     "text": [
      "2024-07-29 13:08:08.115090: I metal_plugin/src/device/metal_device.cc:1154] Metal device set to: Apple M2\n",
      "2024-07-29 13:08:08.115107: I metal_plugin/src/device/metal_device.cc:296] systemMemory: 8.00 GB\n",
      "2024-07-29 13:08:08.115113: I metal_plugin/src/device/metal_device.cc:313] maxCacheSize: 2.67 GB\n",
      "2024-07-29 13:08:08.115142: I tensorflow/core/common_runtime/pluggable_device/pluggable_device_factory.cc:306] Could not identify NUMA node of platform GPU ID 0, defaulting to 0. Your kernel may not have been built with NUMA support.\n",
      "2024-07-29 13:08:08.115155: I tensorflow/core/common_runtime/pluggable_device/pluggable_device_factory.cc:272] Created TensorFlow device (/job:localhost/replica:0/task:0/device:GPU:0 with 0 MB memory) -> physical PluggableDevice (device: 0, name: METAL, pci bus id: <undefined>)\n"
     ]
    },
    {
     "data": {
      "text/plain": [
       "258"
      ]
     },
     "execution_count": 2,
     "metadata": {},
     "output_type": "execute_result"
    }
   ],
   "source": [
    "m = Model(1, [1,64,32,32,1], [None, tf.keras.activations.tanh,tf.keras.activations.tanh,tf.keras.activations.tanh,None])\n",
    "len(m.trainable_variables)"
   ]
  },
  {
   "cell_type": "code",
   "execution_count": 3,
   "metadata": {},
   "outputs": [],
   "source": [
    "### Dataset\n",
    "x_train = np.arange(-10, 10, 0.01)\n",
    "y_train = np.sin(x_train)\n",
    "y_mean = np.mean(y_train)"
   ]
  },
  {
   "cell_type": "code",
   "execution_count": 4,
   "metadata": {},
   "outputs": [],
   "source": [
    "# Define learning rate schedule and optimizer\n",
    "lr_schedule = tf.keras.optimizers.schedules.ExponentialDecay(\n",
    "    initial_learning_rate=0.01,\n",
    "    decay_steps=1000,\n",
    "    decay_rate=0.9)\n",
    "\n",
    "loss_metric = custom_metric(name = \"loss\")\n",
    "accuracy_metric = custom_metric(name = \"accuracy\")\n",
    "\n",
    "metrics = {'loss': loss_metric, 'accuracy': accuracy_metric}\n",
    "optimizer = tf.keras.optimizers.legacy.Adam()\n",
    "m.compile(optimizer, metrics, y_mean)\n",
    "w_callback = Wandb_plot()\n",
    "logs = csv_logger(name = \"test1.csv\")\n",
    "#wandb.config.update({\"model\": m})"
   ]
  },
  {
   "cell_type": "code",
   "execution_count": 5,
   "metadata": {},
   "outputs": [
    {
     "name": "stdout",
     "output_type": "stream",
     "text": [
      "Epoch 1/20\n"
     ]
    },
    {
     "name": "stderr",
     "output_type": "stream",
     "text": [
      "2024-07-29 13:08:23.202164: I tensorflow/core/grappler/optimizers/custom_graph_optimizer_registry.cc:117] Plugin optimizer for device_type GPU is enabled.\n"
     ]
    },
    {
     "name": "stdout",
     "output_type": "stream",
     "text": [
      "16/16 [==============================] - 13s 546ms/step - loss: 6762121.5000 - accuracy: -117010.8828\n",
      "Epoch 2/20\n",
      "16/16 [==============================] - 7s 447ms/step - loss: 1995479.5000 - accuracy: -32176.1602\n",
      "Epoch 3/20\n",
      "16/16 [==============================] - 6s 406ms/step - loss: 557042.3125 - accuracy: -9281.2051\n",
      "Epoch 4/20\n",
      "16/16 [==============================] - 6s 391ms/step - loss: 262537.5312 - accuracy: -4372.2959\n",
      "Epoch 5/20\n",
      "16/16 [==============================] - 6s 414ms/step - loss: 256055.1250 - accuracy: -4317.6646\n",
      "Epoch 6/20\n",
      "16/16 [==============================] - 6s 410ms/step - loss: 166672.4531 - accuracy: -2861.4187\n",
      "Epoch 7/20\n",
      "16/16 [==============================] - 7s 436ms/step - loss: 176779.8438 - accuracy: -2959.1973\n",
      "Epoch 8/20\n",
      "16/16 [==============================] - 7s 429ms/step - loss: 150512.0469 - accuracy: -2530.5574\n",
      "Epoch 9/20\n",
      "16/16 [==============================] - 7s 448ms/step - loss: 130511.2891 - accuracy: -2170.3926\n",
      "Epoch 10/20\n",
      "16/16 [==============================] - 7s 427ms/step - loss: 208726.9375 - accuracy: -3482.6045\n",
      "Epoch 11/20\n",
      "16/16 [==============================] - 6s 396ms/step - loss: 114943.1953 - accuracy: -1930.0244\n",
      "Epoch 12/20\n",
      "16/16 [==============================] - 6s 406ms/step - loss: 108205.1016 - accuracy: -1819.9324\n",
      "Epoch 13/20\n",
      "16/16 [==============================] - 6s 398ms/step - loss: 100503.4844 - accuracy: -1662.1401\n",
      "Epoch 14/20\n",
      "16/16 [==============================] - 6s 397ms/step - loss: 386629.8750 - accuracy: -6481.6294\n",
      "Epoch 15/20\n",
      "16/16 [==============================] - 6s 400ms/step - loss: 514053.1562 - accuracy: -10854.0977\n",
      "Epoch 16/20\n",
      "16/16 [==============================] - 6s 403ms/step - loss: 1176521.2500 - accuracy: -19540.5605\n",
      "Epoch 17/20\n",
      "16/16 [==============================] - 7s 428ms/step - loss: 1091692.8750 - accuracy: -17807.7441\n",
      "Epoch 18/20\n",
      "16/16 [==============================] - 6s 400ms/step - loss: 226714.0469 - accuracy: -3807.0210\n",
      "Epoch 19/20\n",
      "16/16 [==============================] - 6s 387ms/step - loss: 946510.1250 - accuracy: -15958.8320\n",
      "Epoch 20/20\n",
      "16/16 [==============================] - 6s 414ms/step - loss: 351989.6250 - accuracy: -5728.5459\n"
     ]
    },
    {
     "data": {
      "text/plain": [
       "<keras.src.callbacks.History at 0x304a134f0>"
      ]
     },
     "execution_count": 5,
     "metadata": {},
     "output_type": "execute_result"
    }
   ],
   "source": [
    "m.fit(x_train, y_train, epochs=20, batch_size=128, callbacks=[logs])"
   ]
  },
  {
   "cell_type": "code",
   "execution_count": 2,
   "metadata": {},
   "outputs": [
    {
     "name": "stderr",
     "output_type": "stream",
     "text": [
      "MovieWriter imagemagick unavailable; using Pillow instead.\n"
     ]
    }
   ],
   "source": [
    "animate_function(logs= 'logs/test1.csv', name = \"test1.gif\")"
   ]
  },
  {
   "cell_type": "code",
   "execution_count": null,
   "metadata": {},
   "outputs": [],
   "source": []
  }
 ],
 "metadata": {
  "kernelspec": {
   "display_name": "Tensorflow",
   "language": "python",
   "name": "python3"
  },
  "language_info": {
   "codemirror_mode": {
    "name": "ipython",
    "version": 3
   },
   "file_extension": ".py",
   "mimetype": "text/x-python",
   "name": "python",
   "nbconvert_exporter": "python",
   "pygments_lexer": "ipython3",
   "version": "3.10.13"
  }
 },
 "nbformat": 4,
 "nbformat_minor": 2
}
