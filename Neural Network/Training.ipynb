{
 "cells": [
  {
   "cell_type": "code",
   "execution_count": 1,
   "metadata": {},
   "outputs": [],
   "source": [
    "import tensorflow as tf\n",
    "import numpy as np\n",
    "import matplotlib.pyplot as plt\n",
    "import wandb\n",
    "from scripts.models import Model\n",
    "from scripts.utils import custom_metric, Wandb_plot, csv_logger, animate_function\n",
    "import pandas as pd\n",
    "import matplotlib.animation as animation\n",
    "import ast\n",
    "import networkx as nx\n",
    "from matplotlib.animation import FuncAnimation, PillowWriter"
   ]
  },
  {
   "cell_type": "code",
   "execution_count": 2,
   "metadata": {},
   "outputs": [
    {
     "name": "stderr",
     "output_type": "stream",
     "text": [
      "2024-07-31 23:09:06.558385: I metal_plugin/src/device/metal_device.cc:1154] Metal device set to: Apple M2\n",
      "2024-07-31 23:09:06.558415: I metal_plugin/src/device/metal_device.cc:296] systemMemory: 8.00 GB\n",
      "2024-07-31 23:09:06.558427: I metal_plugin/src/device/metal_device.cc:313] maxCacheSize: 2.67 GB\n",
      "2024-07-31 23:09:06.558959: I tensorflow/core/common_runtime/pluggable_device/pluggable_device_factory.cc:306] Could not identify NUMA node of platform GPU ID 0, defaulting to 0. Your kernel may not have been built with NUMA support.\n",
      "2024-07-31 23:09:06.559391: I tensorflow/core/common_runtime/pluggable_device/pluggable_device_factory.cc:272] Created TensorFlow device (/job:localhost/replica:0/task:0/device:GPU:0 with 0 MB memory) -> physical PluggableDevice (device: 0, name: METAL, pci bus id: <undefined>)\n"
     ]
    },
    {
     "data": {
      "text/plain": [
       "258"
      ]
     },
     "execution_count": 2,
     "metadata": {},
     "output_type": "execute_result"
    }
   ],
   "source": [
    "m = Model(1, [1,64,32,32,1], [None, tf.keras.activations.tanh,tf.keras.activations.tanh,tf.keras.activations.tanh,None])\n",
    "len(m.trainable_variables)"
   ]
  },
  {
   "cell_type": "code",
   "execution_count": 3,
   "metadata": {},
   "outputs": [],
   "source": [
    "x_train = np.arange(-10, 10, 0.01)\n",
    "y_train = np.sin(x_train)\n",
    "y_mean = np.mean(y_train)"
   ]
  },
  {
   "cell_type": "code",
   "execution_count": 4,
   "metadata": {},
   "outputs": [],
   "source": [
    "# Define learning rate schedule and optimizer\n",
    "lr_schedule = tf.keras.optimizers.schedules.ExponentialDecay(\n",
    "    initial_learning_rate=0.01,\n",
    "    decay_steps=1000,\n",
    "    decay_rate=0.9)\n",
    "\n",
    "loss_metric = custom_metric(name = \"loss\")\n",
    "accuracy_metric = custom_metric(name = \"accuracy\")\n",
    "\n",
    "metrics = {'loss': loss_metric, 'accuracy': accuracy_metric}\n",
    "\n",
    "optimizer = tf.keras.optimizers.legacy.Adam(learning_rate=lr_schedule)\n",
    "m.compile(optimizer, metrics, y_mean)\n",
    "w_callback = Wandb_plot()\n",
    "logs = csv_logger(name = \"test1.csv\")\n",
    "#wandb.config.update({\"model\": m})"
   ]
  },
  {
   "cell_type": "code",
   "execution_count": 6,
   "metadata": {},
   "outputs": [
    {
     "name": "stdout",
     "output_type": "stream",
     "text": [
      "Epoch 1/20\n"
     ]
    },
    {
     "name": "stderr",
     "output_type": "stream",
     "text": [
      "2024-07-30 14:53:33.011961: I tensorflow/core/grappler/optimizers/custom_graph_optimizer_registry.cc:117] Plugin optimizer for device_type GPU is enabled.\n"
     ]
    },
    {
     "name": "stdout",
     "output_type": "stream",
     "text": [
      "16/16 [==============================] - 68s 3s/step - loss: 13714656.0000 - accuracy: -225406.4219\n",
      "Epoch 2/20\n",
      "16/16 [==============================] - 44s 3s/step - loss: 483725.4375 - accuracy: -8107.3662\n",
      "Epoch 3/20\n",
      "16/16 [==============================] - 41s 3s/step - loss: 3119623.5000 - accuracy: -57006.3008\n",
      "Epoch 4/20\n",
      "16/16 [==============================] - 40s 2s/step - loss: 48540256.0000 - accuracy: -832571.1250\n",
      "Epoch 5/20\n",
      "16/16 [==============================] - 28s 2s/step - loss: 102836648.0000 - accuracy: -1618317.6250\n",
      "Epoch 6/20\n",
      "16/16 [==============================] - 41s 3s/step - loss: 4505107.5000 - accuracy: -76022.1328\n",
      "Epoch 7/20\n",
      "16/16 [==============================] - 39s 3s/step - loss: 479698.9688 - accuracy: -8082.9995\n",
      "Epoch 8/20\n",
      "16/16 [==============================] - 34s 2s/step - loss: 33148.2266 - accuracy: -543.0783\n",
      "Epoch 9/20\n",
      "16/16 [==============================] - 41s 3s/step - loss: 9471.6963 - accuracy: -149.2263\n",
      "Epoch 10/20\n",
      "16/16 [==============================] - 38s 2s/step - loss: 16472.8652 - accuracy: -263.8959\n",
      "Epoch 11/20\n",
      "16/16 [==============================] - 43s 3s/step - loss: 2909.5474 - accuracy: -48.1288\n",
      "Epoch 12/20\n",
      "16/16 [==============================] - 38s 2s/step - loss: 14463.0342 - accuracy: -241.1574\n",
      "Epoch 13/20\n",
      "16/16 [==============================] - 45s 3s/step - loss: 6750.3281 - accuracy: -117.4976\n",
      "Epoch 14/20\n",
      "16/16 [==============================] - 39s 2s/step - loss: 5455.4434 - accuracy: -87.6390\n",
      "Epoch 15/20\n",
      "16/16 [==============================] - 42s 3s/step - loss: 3169.7444 - accuracy: -54.3808\n",
      "Epoch 16/20\n",
      "16/16 [==============================] - 20s 1s/step - loss: 152.3674 - accuracy: -1.4989\n",
      "Epoch 17/20\n",
      "16/16 [==============================] - 22s 1s/step - loss: 110.0149 - accuracy: -0.8575\n",
      "Epoch 18/20\n",
      "16/16 [==============================] - 29s 2s/step - loss: 90.5511 - accuracy: -0.5185\n",
      "Epoch 19/20\n",
      "16/16 [==============================] - 43s 2s/step - loss: 127.5793 - accuracy: -1.1219\n",
      "Epoch 20/20\n",
      "16/16 [==============================] - 61s 4s/step - loss: 94.3410 - accuracy: -0.6078\n"
     ]
    },
    {
     "data": {
      "text/plain": [
       "<keras.src.callbacks.History at 0x31249ce50>"
      ]
     },
     "execution_count": 6,
     "metadata": {},
     "output_type": "execute_result"
    }
   ],
   "source": [
    "m.fit(x_train, y_train, epochs=20, batch_size=128, callbacks=[logs])"
   ]
  },
  {
   "cell_type": "code",
   "execution_count": 8,
   "metadata": {},
   "outputs": [
    {
     "name": "stderr",
     "output_type": "stream",
     "text": [
      "MovieWriter imagemagick unavailable; using Pillow instead.\n"
     ]
    }
   ],
   "source": [
    "animate_function(logs= 'logs/test1.csv', name = \"test1.gif\")"
   ]
  },
  {
   "cell_type": "code",
   "execution_count": null,
   "metadata": {},
   "outputs": [],
   "source": [
    "m.save(\"model1\")\n"
   ]
  }
 ],
 "metadata": {
  "kernelspec": {
   "display_name": "Tensorflow",
   "language": "python",
   "name": "python3"
  },
  "language_info": {
   "codemirror_mode": {
    "name": "ipython",
    "version": 3
   },
   "file_extension": ".py",
   "mimetype": "text/x-python",
   "name": "python",
   "nbconvert_exporter": "python",
   "pygments_lexer": "ipython3",
   "version": "3.10.13"
  }
 },
 "nbformat": 4,
 "nbformat_minor": 2
}
