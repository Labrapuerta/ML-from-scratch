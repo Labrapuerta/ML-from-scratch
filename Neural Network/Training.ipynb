{
 "cells": [
  {
   "cell_type": "code",
   "execution_count": 1,
   "metadata": {},
   "outputs": [],
   "source": [
    "import tensorflow as tf\n",
    "import numpy as np\n",
    "import matplotlib.pyplot as plt\n",
    "import wandb\n",
    "from scripts.models import Model\n",
    "from scripts.utils import plot_training, custom_metric, Wandb_plot\n",
    "import csv"
   ]
  },
  {
   "cell_type": "code",
   "execution_count": 2,
   "metadata": {},
   "outputs": [
    {
     "name": "stderr",
     "output_type": "stream",
     "text": [
      "Failed to detect the name of this notebook, you can set it manually with the WANDB_NOTEBOOK_NAME environment variable to enable code saving.\n",
      "\u001b[34m\u001b[1mwandb\u001b[0m: Currently logged in as: \u001b[33ma01700257\u001b[0m. Use \u001b[1m`wandb login --relogin`\u001b[0m to force relogin\n"
     ]
    },
    {
     "data": {
      "text/html": [
       "Tracking run with wandb version 0.17.5"
      ],
      "text/plain": [
       "<IPython.core.display.HTML object>"
      ]
     },
     "metadata": {},
     "output_type": "display_data"
    },
    {
     "data": {
      "text/html": [
       "Run data is saved locally in <code>/Users/manuelhernandez/Documents/Portfolio/ML from scratch/Neural Network/wandb/run-20240727_021959-nbajimza</code>"
      ],
      "text/plain": [
       "<IPython.core.display.HTML object>"
      ]
     },
     "metadata": {},
     "output_type": "display_data"
    },
    {
     "data": {
      "text/html": [
       "Syncing run <strong><a href='https://wandb.ai/a01700257/Neural%20Network%20from%20scratch/runs/nbajimza' target=\"_blank\">lemon-blaze-61</a></strong> to <a href='https://wandb.ai/a01700257/Neural%20Network%20from%20scratch' target=\"_blank\">Weights & Biases</a> (<a href='https://wandb.me/run' target=\"_blank\">docs</a>)<br/>"
      ],
      "text/plain": [
       "<IPython.core.display.HTML object>"
      ]
     },
     "metadata": {},
     "output_type": "display_data"
    },
    {
     "data": {
      "text/html": [
       " View project at <a href='https://wandb.ai/a01700257/Neural%20Network%20from%20scratch' target=\"_blank\">https://wandb.ai/a01700257/Neural%20Network%20from%20scratch</a>"
      ],
      "text/plain": [
       "<IPython.core.display.HTML object>"
      ]
     },
     "metadata": {},
     "output_type": "display_data"
    },
    {
     "data": {
      "text/html": [
       " View run at <a href='https://wandb.ai/a01700257/Neural%20Network%20from%20scratch/runs/nbajimza' target=\"_blank\">https://wandb.ai/a01700257/Neural%20Network%20from%20scratch/runs/nbajimza</a>"
      ],
      "text/plain": [
       "<IPython.core.display.HTML object>"
      ]
     },
     "metadata": {},
     "output_type": "display_data"
    }
   ],
   "source": [
    "wandb.login()\n",
    "run = wandb.init(\n",
    "    # Set the project where this run will be logged\n",
    "    project=\"Neural Network from scratch\", \n",
    "    # Track hyperparameters and run metadata\n",
    "    config={\n",
    "        \"learning_rate\": 0.01,\n",
    "        \"epochs\": 1500,\n",
    "        \"batch_size\": 128,\n",
    "        \"activation\": \"Tanh\",\n",
    "        \"architecture\" : \"1,512,512,512,1\",\n",
    "        \"Optimizer\": \"Adam\",\n",
    "        \"Name\" : \"Tanh Model\"\n",
    "    },\n",
    ")"
   ]
  },
  {
   "cell_type": "code",
   "execution_count": 3,
   "metadata": {},
   "outputs": [
    {
     "name": "stderr",
     "output_type": "stream",
     "text": [
      "2024-07-27 02:20:23.343218: I metal_plugin/src/device/metal_device.cc:1154] Metal device set to: Apple M2\n",
      "2024-07-27 02:20:23.343266: I metal_plugin/src/device/metal_device.cc:296] systemMemory: 8.00 GB\n",
      "2024-07-27 02:20:23.343283: I metal_plugin/src/device/metal_device.cc:313] maxCacheSize: 2.67 GB\n",
      "2024-07-27 02:20:23.343651: I tensorflow/core/common_runtime/pluggable_device/pluggable_device_factory.cc:306] Could not identify NUMA node of platform GPU ID 0, defaulting to 0. Your kernel may not have been built with NUMA support.\n",
      "2024-07-27 02:20:23.343954: I tensorflow/core/common_runtime/pluggable_device/pluggable_device_factory.cc:272] Created TensorFlow device (/job:localhost/replica:0/task:0/device:GPU:0 with 0 MB memory) -> physical PluggableDevice (device: 0, name: METAL, pci bus id: <undefined>)\n"
     ]
    },
    {
     "data": {
      "text/plain": [
       "3074"
      ]
     },
     "execution_count": 3,
     "metadata": {},
     "output_type": "execute_result"
    }
   ],
   "source": [
    "m = Model(1, [1,512,512,512,1], [None, tf.keras.activations.tanh,tf.keras.activations.tanh,tf.keras.activations.tanh,None])\n",
    "len(m.trainable_variables)"
   ]
  },
  {
   "cell_type": "code",
   "execution_count": 4,
   "metadata": {},
   "outputs": [],
   "source": [
    "### Dataset\n",
    "x_train = np.arange(-10, 10, 0.01)\n",
    "y_train = np.sin(x_train)"
   ]
  },
  {
   "cell_type": "code",
   "execution_count": 5,
   "metadata": {},
   "outputs": [],
   "source": [
    "# Define learning rate schedule and optimizer\n",
    "lr_schedule = tf.keras.optimizers.schedules.ExponentialDecay(\n",
    "    initial_learning_rate=0.01,\n",
    "    decay_steps=1000,\n",
    "    decay_rate=0.9)\n",
    "\n",
    "loss_metric = custom_metric(name = \"loss\")\n",
    "accuracy_metric = custom_metric(name = \"accuracy\")\n",
    "\n",
    "metrics = {'loss': loss_metric, 'accuracy': accuracy_metric}\n",
    "optimizer = tf.keras.optimizers.legacy.Adam()\n",
    "m.compile(optimizer, metrics)\n",
    "w_callback = Wandb_plot() \n",
    "wandb.config.update({\"model\": m})"
   ]
  },
  {
   "cell_type": "code",
   "execution_count": 6,
   "metadata": {},
   "outputs": [
    {
     "name": "stdout",
     "output_type": "stream",
     "text": [
      "Epoch 1/2\n"
     ]
    },
    {
     "name": "stderr",
     "output_type": "stream",
     "text": [
      "2024-07-27 02:22:00.624341: I tensorflow/core/grappler/optimizers/custom_graph_optimizer_registry.cc:117] Plugin optimizer for device_type GPU is enabled.\n"
     ]
    },
    {
     "name": "stdout",
     "output_type": "stream",
     "text": [
      " 4/16 [======>.......................] - ETA: 4:02 - loss: 2686021120.0000 - accuracy: 48519.1094"
     ]
    },
    {
     "name": "stderr",
     "output_type": "stream",
     "text": [
      "python(13701) MallocStackLogging: can't turn off malloc stack logging because it was not enabled.\n",
      "python(13706) MallocStackLogging: can't turn off malloc stack logging because it was not enabled.\n",
      "python(13709) MallocStackLogging: can't turn off malloc stack logging because it was not enabled.\n",
      "python(13713) MallocStackLogging: can't turn off malloc stack logging because it was not enabled.\n",
      "python(13714) MallocStackLogging: can't turn off malloc stack logging because it was not enabled.\n",
      "python(13715) MallocStackLogging: can't turn off malloc stack logging because it was not enabled.\n",
      "python(13721) MallocStackLogging: can't turn off malloc stack logging because it was not enabled.\n",
      "python(13724) MallocStackLogging: can't turn off malloc stack logging because it was not enabled.\n",
      "python(13726) MallocStackLogging: can't turn off malloc stack logging because it was not enabled.\n",
      "python(13727) MallocStackLogging: can't turn off malloc stack logging because it was not enabled.\n",
      "python(13728) MallocStackLogging: can't turn off malloc stack logging because it was not enabled.\n"
     ]
    }
   ],
   "source": [
    "m.fit(x_train, y_train, epochs=2, batch_size=128, callbacks=[w_callback])\n",
    "run.finish()"
   ]
  },
  {
   "cell_type": "code",
   "execution_count": null,
   "metadata": {},
   "outputs": [],
   "source": [
    "from tensorflow.keras.models import Sequential\n",
    "from tensorflow.keras.layers import Dense\n",
    "from tensorflow.keras.optimizers import SGD, Adam\n",
    "\n",
    "model = Sequential()\n",
    "model.add(Dense(32, activation='relu', input_shape=(1,)))\n",
    "model.add(Dense(32, activation='relu'))\n",
    "model.add(Dense(64, activation='relu'))\n",
    "model.add(Dense(1))\n",
    "model.compile(optimizer=Adam(), loss='mse', metrics=['mae'])\n",
    "model.fit(x_train, y_train, epochs=200, batch_size=10, callbacks=[w_callback])"
   ]
  }
 ],
 "metadata": {
  "kernelspec": {
   "display_name": "Tensorflow",
   "language": "python",
   "name": "python3"
  },
  "language_info": {
   "codemirror_mode": {
    "name": "ipython",
    "version": 3
   },
   "file_extension": ".py",
   "mimetype": "text/x-python",
   "name": "python",
   "nbconvert_exporter": "python",
   "pygments_lexer": "ipython3",
   "version": "3.10.13"
  }
 },
 "nbformat": 4,
 "nbformat_minor": 2
}
