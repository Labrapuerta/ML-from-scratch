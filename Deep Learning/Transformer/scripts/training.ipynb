{
 "cells": [
  {
   "cell_type": "code",
   "execution_count": 1,
   "metadata": {},
   "outputs": [],
   "source": [
    "from models import *\n",
    "from utils import *\n",
    "import tensorflow as tf"
   ]
  },
  {
   "cell_type": "code",
   "execution_count": 2,
   "metadata": {},
   "outputs": [],
   "source": [
    "class Transformer(Model):\n",
    "    def __init__(self, input_dims=6, output_dims=6, n_layers=6, n_heads=8):\n",
    "        super(Transformer, self).__init__()\n",
    "        self.encoder = encoder(n_layers= n_layers, n_heads= n_heads, input_dims=input_dims)\n",
    "        self.decoder = decoder(n_layers= n_layers, n_heads= n_heads, input_dims=input_dims)\n",
    "\n",
    "    \n",
    "    def call(self, x, y):\n",
    "        x = self.encoder(x)\n",
    "        x = self.decoder(y, x)\n",
    "        return x\n",
    "    \n",
    "    def compile(self, optimizer, loss):\n",
    "        super(Transformer, self).compile()\n",
    "        self.optimizer = optimizer\n",
    "        self.loss = loss\n",
    "    \n",
    "    def train_step(self, data):\n",
    "        x, y = data\n",
    "        with tf.GradientTape() as tape:\n",
    "            y_pred = self(x, y)\n",
    "            loss = self.loss(y, y_pred)\n",
    "        gradients = tape.gradient(loss, self.trainable_variables)\n",
    "        self.optimizer.apply_gradients(zip(gradients, self.trainable_variables))\n",
    "        return {'loss': loss}"
   ]
  },
  {
   "cell_type": "code",
   "execution_count": 3,
   "metadata": {},
   "outputs": [
    {
     "name": "stderr",
     "output_type": "stream",
     "text": [
      "2024-11-14 22:17:31.698468: I metal_plugin/src/device/metal_device.cc:1154] Metal device set to: Apple M2\n",
      "2024-11-14 22:17:31.698493: I metal_plugin/src/device/metal_device.cc:296] systemMemory: 8.00 GB\n",
      "2024-11-14 22:17:31.698499: I metal_plugin/src/device/metal_device.cc:313] maxCacheSize: 2.67 GB\n",
      "2024-11-14 22:17:31.698544: I tensorflow/core/common_runtime/pluggable_device/pluggable_device_factory.cc:306] Could not identify NUMA node of platform GPU ID 0, defaulting to 0. Your kernel may not have been built with NUMA support.\n",
      "2024-11-14 22:17:31.698599: I tensorflow/core/common_runtime/pluggable_device/pluggable_device_factory.cc:272] Created TensorFlow device (/job:localhost/replica:0/task:0/device:GPU:0 with 0 MB memory) -> physical PluggableDevice (device: 0, name: METAL, pci bus id: <undefined>)\n"
     ]
    }
   ],
   "source": [
    "y = tf.ones(shape=(10,300, 300), dtype=tf.float32)\n",
    "x = tf.ones(shape=(10,300), dtype=tf.float32)"
   ]
  },
  {
   "cell_type": "code",
   "execution_count": 4,
   "metadata": {},
   "outputs": [
    {
     "name": "stdout",
     "output_type": "stream",
     "text": [
      "Model: \"transformer\"\n",
      "_________________________________________________________________\n",
      " Layer (type)                Output Shape              Param #   \n",
      "=================================================================\n",
      " encoder (encoder)           multiple                  19055616  \n",
      "                                                                 \n",
      " decoder (decoder)           multiple                  25824812  \n",
      "                                                                 \n",
      "=================================================================\n",
      "Total params: 44880428 (171.21 MB)\n",
      "Trainable params: 44880428 (171.21 MB)\n",
      "Non-trainable params: 0 (0.00 Byte)\n",
      "_________________________________________________________________\n"
     ]
    }
   ],
   "source": [
    "t = Transformer(input_dims= 300)\n",
    "z = t(x, y)\n",
    "t.summary()"
   ]
  },
  {
   "cell_type": "code",
   "execution_count": 9,
   "metadata": {},
   "outputs": [
    {
     "data": {
      "text/plain": [
       "<bound method _EagerTensorBase.get_shape of <tf.Tensor: shape=(10, 300, 300), dtype=float32, numpy=\n",
       "array([[[-1.2139132 , -0.85386574, -0.38919994, ...,  0.12991093,\n",
       "          0.3868761 , -0.7477759 ],\n",
       "        [-1.214941  , -0.8516314 , -0.3897114 , ...,  0.12777205,\n",
       "          0.38981205, -0.74723107],\n",
       "        [-1.2165864 , -0.84910727, -0.3894591 , ...,  0.12704293,\n",
       "          0.39193863, -0.7473798 ],\n",
       "        ...,\n",
       "        [-1.2256557 , -0.8601747 , -0.38061914, ...,  0.14272445,\n",
       "          0.39942598, -0.7473026 ],\n",
       "        [-1.2259754 , -0.8606748 , -0.38110748, ...,  0.14259157,\n",
       "          0.3990687 , -0.7473596 ],\n",
       "        [-1.2266117 , -0.8613493 , -0.38169628, ...,  0.14250286,\n",
       "          0.39835012, -0.7472714 ]],\n",
       "\n",
       "       [[-1.2139132 , -0.85386574, -0.38919994, ...,  0.12991093,\n",
       "          0.3868761 , -0.7477759 ],\n",
       "        [-1.214941  , -0.8516314 , -0.3897114 , ...,  0.12777205,\n",
       "          0.38981205, -0.74723107],\n",
       "        [-1.2165864 , -0.84910727, -0.3894591 , ...,  0.12704293,\n",
       "          0.39193863, -0.7473798 ],\n",
       "        ...,\n",
       "        [-1.2256557 , -0.8601747 , -0.38061914, ...,  0.14272445,\n",
       "          0.39942598, -0.7473026 ],\n",
       "        [-1.2259754 , -0.8606748 , -0.38110748, ...,  0.14259157,\n",
       "          0.3990687 , -0.7473596 ],\n",
       "        [-1.2266117 , -0.8613493 , -0.38169628, ...,  0.14250286,\n",
       "          0.39835012, -0.7472714 ]],\n",
       "\n",
       "       [[-1.2139132 , -0.85386574, -0.38919994, ...,  0.12991093,\n",
       "          0.3868761 , -0.7477759 ],\n",
       "        [-1.214941  , -0.8516314 , -0.3897114 , ...,  0.12777205,\n",
       "          0.38981205, -0.74723107],\n",
       "        [-1.2165864 , -0.84910727, -0.3894591 , ...,  0.12704293,\n",
       "          0.39193863, -0.7473798 ],\n",
       "        ...,\n",
       "        [-1.2256557 , -0.8601747 , -0.38061914, ...,  0.14272445,\n",
       "          0.39942598, -0.7473026 ],\n",
       "        [-1.2259754 , -0.8606748 , -0.38110748, ...,  0.14259157,\n",
       "          0.3990687 , -0.7473596 ],\n",
       "        [-1.2266117 , -0.8613493 , -0.38169628, ...,  0.14250286,\n",
       "          0.39835012, -0.7472714 ]],\n",
       "\n",
       "       ...,\n",
       "\n",
       "       [[-1.2139132 , -0.85386574, -0.38919994, ...,  0.12991093,\n",
       "          0.3868761 , -0.7477759 ],\n",
       "        [-1.214941  , -0.8516314 , -0.3897114 , ...,  0.12777205,\n",
       "          0.38981205, -0.74723107],\n",
       "        [-1.2165864 , -0.84910727, -0.3894591 , ...,  0.12704293,\n",
       "          0.39193863, -0.7473798 ],\n",
       "        ...,\n",
       "        [-1.2256557 , -0.8601747 , -0.38061914, ...,  0.14272445,\n",
       "          0.39942598, -0.7473026 ],\n",
       "        [-1.2259754 , -0.8606748 , -0.38110748, ...,  0.14259157,\n",
       "          0.3990687 , -0.7473596 ],\n",
       "        [-1.2266117 , -0.8613493 , -0.38169628, ...,  0.14250286,\n",
       "          0.39835012, -0.7472714 ]],\n",
       "\n",
       "       [[-1.2139132 , -0.85386574, -0.38919994, ...,  0.12991093,\n",
       "          0.3868761 , -0.7477759 ],\n",
       "        [-1.214941  , -0.8516314 , -0.3897114 , ...,  0.12777205,\n",
       "          0.38981205, -0.74723107],\n",
       "        [-1.2165864 , -0.84910727, -0.3894591 , ...,  0.12704293,\n",
       "          0.39193863, -0.7473798 ],\n",
       "        ...,\n",
       "        [-1.2256557 , -0.8601747 , -0.38061914, ...,  0.14272445,\n",
       "          0.39942598, -0.7473026 ],\n",
       "        [-1.2259754 , -0.8606748 , -0.38110748, ...,  0.14259157,\n",
       "          0.3990687 , -0.7473596 ],\n",
       "        [-1.2266117 , -0.8613493 , -0.38169628, ...,  0.14250286,\n",
       "          0.39835012, -0.7472714 ]],\n",
       "\n",
       "       [[-1.2139132 , -0.85386574, -0.38919994, ...,  0.12991093,\n",
       "          0.3868761 , -0.7477759 ],\n",
       "        [-1.214941  , -0.8516314 , -0.3897114 , ...,  0.12777205,\n",
       "          0.38981205, -0.74723107],\n",
       "        [-1.2165864 , -0.84910727, -0.3894591 , ...,  0.12704293,\n",
       "          0.39193863, -0.7473798 ],\n",
       "        ...,\n",
       "        [-1.2256557 , -0.8601747 , -0.38061914, ...,  0.14272445,\n",
       "          0.39942598, -0.7473026 ],\n",
       "        [-1.2259754 , -0.8606748 , -0.38110748, ...,  0.14259157,\n",
       "          0.3990687 , -0.7473596 ],\n",
       "        [-1.2266117 , -0.8613493 , -0.38169628, ...,  0.14250286,\n",
       "          0.39835012, -0.7472714 ]]], dtype=float32)>>"
      ]
     },
     "execution_count": 9,
     "metadata": {},
     "output_type": "execute_result"
    }
   ],
   "source": [
    "z.get_shape"
   ]
  },
  {
   "cell_type": "code",
   "execution_count": null,
   "metadata": {},
   "outputs": [],
   "source": []
  }
 ],
 "metadata": {
  "kernelspec": {
   "display_name": "Tensorflow",
   "language": "python",
   "name": "python3"
  },
  "language_info": {
   "codemirror_mode": {
    "name": "ipython",
    "version": 3
   },
   "file_extension": ".py",
   "mimetype": "text/x-python",
   "name": "python",
   "nbconvert_exporter": "python",
   "pygments_lexer": "ipython3",
   "version": "3.10.13"
  }
 },
 "nbformat": 4,
 "nbformat_minor": 2
}
