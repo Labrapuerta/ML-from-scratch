{
 "cells": [
  {
   "cell_type": "code",
   "execution_count": 7,
   "metadata": {},
   "outputs": [],
   "source": [
    "from models import *\n",
    "from utils import *\n",
    "import tensorflow as tf"
   ]
  },
  {
   "cell_type": "code",
   "execution_count": 3,
   "metadata": {},
   "outputs": [],
   "source": [
    "class Transformer(Model):\n",
    "    def __init__(self, input_dims=6, output_dims=6, n_layers=6, n_heads=8):\n",
    "        super(Transformer, self).__init__()\n",
    "        self.encoder = encoder(n_layers= n_layers, n_heads= n_heads, input_dims=input_dims)\n",
    "        self.decoder = decoder(n_layers= n_layers, n_heads= n_heads, input_dims=input_dims)\n",
    "\n",
    "    \n",
    "    def call(self, x, y):\n",
    "        x = self.encoder(x)\n",
    "        x = self.decoder(y, x)\n",
    "        return x\n",
    "    \n",
    "    def compile(self, optimizer, loss):\n",
    "        super(Transformer, self).compile()\n",
    "        self.optimizer = optimizer\n",
    "        self.loss = loss\n",
    "    \n",
    "    def train_step(self, data):\n",
    "        x, y = data\n",
    "        with tf.GradientTape() as tape:\n",
    "            y_pred = self(x, y)\n",
    "            loss = self.loss(y, y_pred)\n",
    "        gradients = tape.gradient(loss, self.trainable_variables)\n",
    "        self.optimizer.apply_gradients(zip(gradients, self.trainable_variables))\n",
    "        return {'loss': loss}"
   ]
  },
  {
   "cell_type": "code",
   "execution_count": 4,
   "metadata": {},
   "outputs": [
    {
     "name": "stderr",
     "output_type": "stream",
     "text": [
      "2024-09-02 13:19:30.956894: I metal_plugin/src/device/metal_device.cc:1154] Metal device set to: Apple M2\n",
      "2024-09-02 13:19:30.957711: I metal_plugin/src/device/metal_device.cc:296] systemMemory: 8.00 GB\n",
      "2024-09-02 13:19:30.957745: I metal_plugin/src/device/metal_device.cc:313] maxCacheSize: 2.67 GB\n",
      "2024-09-02 13:19:30.959000: I tensorflow/core/common_runtime/pluggable_device/pluggable_device_factory.cc:306] Could not identify NUMA node of platform GPU ID 0, defaulting to 0. Your kernel may not have been built with NUMA support.\n",
      "2024-09-02 13:19:30.960487: I tensorflow/core/common_runtime/pluggable_device/pluggable_device_factory.cc:272] Created TensorFlow device (/job:localhost/replica:0/task:0/device:GPU:0 with 0 MB memory) -> physical PluggableDevice (device: 0, name: METAL, pci bus id: <undefined>)\n"
     ]
    }
   ],
   "source": [
    "y = tf.ones(shape=(10,300, 300), dtype=tf.float32)\n",
    "x = tf.ones(shape=(10,300), dtype=tf.float32)"
   ]
  },
  {
   "cell_type": "code",
   "execution_count": 5,
   "metadata": {},
   "outputs": [
    {
     "name": "stdout",
     "output_type": "stream",
     "text": [
      "Model: \"transformer\"\n",
      "_________________________________________________________________\n",
      " Layer (type)                Output Shape              Param #   \n",
      "=================================================================\n",
      " encoder (encoder)           multiple                  19055616  \n",
      "                                                                 \n",
      " decoder (decoder)           multiple                  25824812  \n",
      "                                                                 \n",
      "=================================================================\n",
      "Total params: 44880428 (171.21 MB)\n",
      "Trainable params: 44880428 (171.21 MB)\n",
      "Non-trainable params: 0 (0.00 Byte)\n",
      "_________________________________________________________________\n"
     ]
    }
   ],
   "source": [
    "t = Transformer(input_dims= 300)\n",
    "z = t(x, y)\n",
    "t.summary()"
   ]
  },
  {
   "cell_type": "code",
   "execution_count": 8,
   "metadata": {},
   "outputs": [
    {
     "data": {
      "text/plain": [
       "<tf.Tensor: shape=(10, 300, 300), dtype=float32, numpy=\n",
       "array([[[-0.29845726,  2.29079   , -0.12942715, ...,  0.45482853,\n",
       "          0.33290613,  0.04219987],\n",
       "        [-0.29891664,  2.2901628 , -0.1308194 , ...,  0.45329648,\n",
       "          0.33261505,  0.04334272],\n",
       "        [-0.2989568 ,  2.289533  , -0.13213918, ...,  0.4520475 ,\n",
       "          0.3329478 ,  0.04350449],\n",
       "        ...,\n",
       "        [-0.30312443,  2.2996764 , -0.13052866, ...,  0.46019652,\n",
       "          0.33033192,  0.03498219],\n",
       "        [-0.30304295,  2.2995281 , -0.12877221, ...,  0.45966458,\n",
       "          0.33046624,  0.03400264],\n",
       "        [-0.30250347,  2.299864  , -0.12739386, ...,  0.4588153 ,\n",
       "          0.3310257 ,  0.03437804]],\n",
       "\n",
       "       [[-0.29845726,  2.29079   , -0.12942715, ...,  0.45482853,\n",
       "          0.33290613,  0.04219987],\n",
       "        [-0.29891664,  2.2901628 , -0.1308194 , ...,  0.45329648,\n",
       "          0.33261505,  0.04334272],\n",
       "        [-0.2989568 ,  2.289533  , -0.13213918, ...,  0.4520475 ,\n",
       "          0.3329478 ,  0.04350449],\n",
       "        ...,\n",
       "        [-0.30312443,  2.2996764 , -0.13052866, ...,  0.46019652,\n",
       "          0.33033192,  0.03498219],\n",
       "        [-0.30304295,  2.2995281 , -0.12877221, ...,  0.45966458,\n",
       "          0.33046624,  0.03400264],\n",
       "        [-0.30250347,  2.299864  , -0.12739386, ...,  0.4588153 ,\n",
       "          0.3310257 ,  0.03437804]],\n",
       "\n",
       "       [[-0.29845726,  2.29079   , -0.12942715, ...,  0.45482853,\n",
       "          0.33290613,  0.04219987],\n",
       "        [-0.29891664,  2.2901628 , -0.1308194 , ...,  0.45329648,\n",
       "          0.33261505,  0.04334272],\n",
       "        [-0.2989568 ,  2.289533  , -0.13213918, ...,  0.4520475 ,\n",
       "          0.3329478 ,  0.04350449],\n",
       "        ...,\n",
       "        [-0.30312443,  2.2996764 , -0.13052866, ...,  0.46019652,\n",
       "          0.33033192,  0.03498219],\n",
       "        [-0.30304295,  2.2995281 , -0.12877221, ...,  0.45966458,\n",
       "          0.33046624,  0.03400264],\n",
       "        [-0.30250347,  2.299864  , -0.12739386, ...,  0.4588153 ,\n",
       "          0.3310257 ,  0.03437804]],\n",
       "\n",
       "       ...,\n",
       "\n",
       "       [[-0.29845726,  2.29079   , -0.12942715, ...,  0.45482853,\n",
       "          0.33290613,  0.04219987],\n",
       "        [-0.29891664,  2.2901628 , -0.1308194 , ...,  0.45329648,\n",
       "          0.33261505,  0.04334272],\n",
       "        [-0.2989568 ,  2.289533  , -0.13213918, ...,  0.4520475 ,\n",
       "          0.3329478 ,  0.04350449],\n",
       "        ...,\n",
       "        [-0.30312443,  2.2996764 , -0.13052866, ...,  0.46019652,\n",
       "          0.33033192,  0.03498219],\n",
       "        [-0.30304295,  2.2995281 , -0.12877221, ...,  0.45966458,\n",
       "          0.33046624,  0.03400264],\n",
       "        [-0.30250347,  2.299864  , -0.12739386, ...,  0.4588153 ,\n",
       "          0.3310257 ,  0.03437804]],\n",
       "\n",
       "       [[-0.29845726,  2.29079   , -0.12942715, ...,  0.45482853,\n",
       "          0.33290613,  0.04219987],\n",
       "        [-0.29891664,  2.2901628 , -0.1308194 , ...,  0.45329648,\n",
       "          0.33261505,  0.04334272],\n",
       "        [-0.2989568 ,  2.289533  , -0.13213918, ...,  0.4520475 ,\n",
       "          0.3329478 ,  0.04350449],\n",
       "        ...,\n",
       "        [-0.30312443,  2.2996764 , -0.13052866, ...,  0.46019652,\n",
       "          0.33033192,  0.03498219],\n",
       "        [-0.30304295,  2.2995281 , -0.12877221, ...,  0.45966458,\n",
       "          0.33046624,  0.03400264],\n",
       "        [-0.30250347,  2.299864  , -0.12739386, ...,  0.4588153 ,\n",
       "          0.3310257 ,  0.03437804]],\n",
       "\n",
       "       [[-0.29845726,  2.29079   , -0.12942715, ...,  0.45482853,\n",
       "          0.33290613,  0.04219987],\n",
       "        [-0.29891664,  2.2901628 , -0.1308194 , ...,  0.45329648,\n",
       "          0.33261505,  0.04334272],\n",
       "        [-0.2989568 ,  2.289533  , -0.13213918, ...,  0.4520475 ,\n",
       "          0.3329478 ,  0.04350449],\n",
       "        ...,\n",
       "        [-0.30312443,  2.2996764 , -0.13052866, ...,  0.46019652,\n",
       "          0.33033192,  0.03498219],\n",
       "        [-0.30304295,  2.2995281 , -0.12877221, ...,  0.45966458,\n",
       "          0.33046624,  0.03400264],\n",
       "        [-0.30250347,  2.299864  , -0.12739386, ...,  0.4588153 ,\n",
       "          0.3310257 ,  0.03437804]]], dtype=float32)>"
      ]
     },
     "execution_count": 8,
     "metadata": {},
     "output_type": "execute_result"
    }
   ],
   "source": [
    "z"
   ]
  },
  {
   "cell_type": "code",
   "execution_count": null,
   "metadata": {},
   "outputs": [],
   "source": []
  }
 ],
 "metadata": {
  "kernelspec": {
   "display_name": "Tensorflow",
   "language": "python",
   "name": "python3"
  },
  "language_info": {
   "codemirror_mode": {
    "name": "ipython",
    "version": 3
   },
   "file_extension": ".py",
   "mimetype": "text/x-python",
   "name": "python",
   "nbconvert_exporter": "python",
   "pygments_lexer": "ipython3",
   "version": "3.10.13"
  }
 },
 "nbformat": 4,
 "nbformat_minor": 2
}
